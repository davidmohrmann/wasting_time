{
 "cells": [
  {
   "cell_type": "code",
   "execution_count": 1,
   "metadata": {
    "collapsed": true
   },
   "outputs": [],
   "source": [
    "import matplotlib.pyplot as plt\n",
    "import numpy as np\n",
    "import pandas as pd\n",
    "from pandas import DataFrame, Series\n",
    "%matplotlib inline\n"
   ]
  },
  {
   "cell_type": "code",
   "execution_count": 2,
   "metadata": {
    "collapsed": false
   },
   "outputs": [
    {
     "data": {
      "text/html": [
       "<div>\n",
       "<table border=\"1\" class=\"dataframe\">\n",
       "  <thead>\n",
       "    <tr style=\"text-align: right;\">\n",
       "      <th></th>\n",
       "      <th>tucaseid</th>\n",
       "      <th>TUFINLWGT</th>\n",
       "      <th>TRYHHCHILD</th>\n",
       "      <th>TEAGE</th>\n",
       "      <th>TESEX</th>\n",
       "      <th>PEEDUCA</th>\n",
       "      <th>PTDTRACE</th>\n",
       "      <th>PEHSPNON</th>\n",
       "      <th>GTMETSTA</th>\n",
       "      <th>TELFS</th>\n",
       "      <th>...</th>\n",
       "      <th>t181601</th>\n",
       "      <th>t181699</th>\n",
       "      <th>t181801</th>\n",
       "      <th>t181899</th>\n",
       "      <th>t189999</th>\n",
       "      <th>t500101</th>\n",
       "      <th>t500103</th>\n",
       "      <th>t500105</th>\n",
       "      <th>t500106</th>\n",
       "      <th>t500107</th>\n",
       "    </tr>\n",
       "  </thead>\n",
       "  <tbody>\n",
       "    <tr>\n",
       "      <th>0</th>\n",
       "      <td>20140101140007</td>\n",
       "      <td>4.891316e+06</td>\n",
       "      <td>0</td>\n",
       "      <td>20</td>\n",
       "      <td>2</td>\n",
       "      <td>39</td>\n",
       "      <td>1</td>\n",
       "      <td>1</td>\n",
       "      <td>1</td>\n",
       "      <td>4</td>\n",
       "      <td>...</td>\n",
       "      <td>0</td>\n",
       "      <td>0</td>\n",
       "      <td>0</td>\n",
       "      <td>0</td>\n",
       "      <td>0</td>\n",
       "      <td>0</td>\n",
       "      <td>0</td>\n",
       "      <td>0</td>\n",
       "      <td>0</td>\n",
       "      <td>0</td>\n",
       "    </tr>\n",
       "    <tr>\n",
       "      <th>1</th>\n",
       "      <td>20140101140011</td>\n",
       "      <td>2.314737e+07</td>\n",
       "      <td>16</td>\n",
       "      <td>16</td>\n",
       "      <td>2</td>\n",
       "      <td>37</td>\n",
       "      <td>2</td>\n",
       "      <td>2</td>\n",
       "      <td>1</td>\n",
       "      <td>1</td>\n",
       "      <td>...</td>\n",
       "      <td>0</td>\n",
       "      <td>0</td>\n",
       "      <td>0</td>\n",
       "      <td>0</td>\n",
       "      <td>0</td>\n",
       "      <td>0</td>\n",
       "      <td>0</td>\n",
       "      <td>0</td>\n",
       "      <td>0</td>\n",
       "      <td>0</td>\n",
       "    </tr>\n",
       "    <tr>\n",
       "      <th>2</th>\n",
       "      <td>20140101140028</td>\n",
       "      <td>2.094182e+07</td>\n",
       "      <td>2</td>\n",
       "      <td>65</td>\n",
       "      <td>2</td>\n",
       "      <td>38</td>\n",
       "      <td>1</td>\n",
       "      <td>1</td>\n",
       "      <td>1</td>\n",
       "      <td>5</td>\n",
       "      <td>...</td>\n",
       "      <td>0</td>\n",
       "      <td>0</td>\n",
       "      <td>0</td>\n",
       "      <td>0</td>\n",
       "      <td>0</td>\n",
       "      <td>0</td>\n",
       "      <td>0</td>\n",
       "      <td>0</td>\n",
       "      <td>0</td>\n",
       "      <td>0</td>\n",
       "    </tr>\n",
       "    <tr>\n",
       "      <th>3</th>\n",
       "      <td>20140101140063</td>\n",
       "      <td>2.505899e+06</td>\n",
       "      <td>-1</td>\n",
       "      <td>50</td>\n",
       "      <td>2</td>\n",
       "      <td>39</td>\n",
       "      <td>2</td>\n",
       "      <td>2</td>\n",
       "      <td>2</td>\n",
       "      <td>5</td>\n",
       "      <td>...</td>\n",
       "      <td>0</td>\n",
       "      <td>0</td>\n",
       "      <td>0</td>\n",
       "      <td>0</td>\n",
       "      <td>0</td>\n",
       "      <td>0</td>\n",
       "      <td>0</td>\n",
       "      <td>0</td>\n",
       "      <td>0</td>\n",
       "      <td>0</td>\n",
       "    </tr>\n",
       "    <tr>\n",
       "      <th>4</th>\n",
       "      <td>20140101140168</td>\n",
       "      <td>1.592823e+07</td>\n",
       "      <td>8</td>\n",
       "      <td>23</td>\n",
       "      <td>2</td>\n",
       "      <td>39</td>\n",
       "      <td>2</td>\n",
       "      <td>2</td>\n",
       "      <td>2</td>\n",
       "      <td>4</td>\n",
       "      <td>...</td>\n",
       "      <td>0</td>\n",
       "      <td>0</td>\n",
       "      <td>0</td>\n",
       "      <td>0</td>\n",
       "      <td>0</td>\n",
       "      <td>0</td>\n",
       "      <td>0</td>\n",
       "      <td>0</td>\n",
       "      <td>0</td>\n",
       "      <td>0</td>\n",
       "    </tr>\n",
       "  </tbody>\n",
       "</table>\n",
       "<p>5 rows × 409 columns</p>\n",
       "</div>"
      ],
      "text/plain": [
       "         tucaseid     TUFINLWGT  TRYHHCHILD  TEAGE  TESEX  PEEDUCA  PTDTRACE  \\\n",
       "0  20140101140007  4.891316e+06           0     20      2       39         1   \n",
       "1  20140101140011  2.314737e+07          16     16      2       37         2   \n",
       "2  20140101140028  2.094182e+07           2     65      2       38         1   \n",
       "3  20140101140063  2.505899e+06          -1     50      2       39         2   \n",
       "4  20140101140168  1.592823e+07           8     23      2       39         2   \n",
       "\n",
       "   PEHSPNON  GTMETSTA  TELFS   ...     t181601  t181699  t181801  t181899  \\\n",
       "0         1         1      4   ...           0        0        0        0   \n",
       "1         2         1      1   ...           0        0        0        0   \n",
       "2         1         1      5   ...           0        0        0        0   \n",
       "3         2         2      5   ...           0        0        0        0   \n",
       "4         2         2      4   ...           0        0        0        0   \n",
       "\n",
       "   t189999  t500101  t500103  t500105  t500106  t500107  \n",
       "0        0        0        0        0        0        0  \n",
       "1        0        0        0        0        0        0  \n",
       "2        0        0        0        0        0        0  \n",
       "3        0        0        0        0        0        0  \n",
       "4        0        0        0        0        0        0  \n",
       "\n",
       "[5 rows x 409 columns]"
      ]
     },
     "execution_count": 2,
     "metadata": {},
     "output_type": "execute_result"
    }
   ],
   "source": [
    "activity_sum = pd.read_csv('data/atussum_2014.dat')\n",
    "activity_sum.head()"
   ]
  },
  {
   "cell_type": "code",
   "execution_count": 3,
   "metadata": {
    "collapsed": false
   },
   "outputs": [],
   "source": [
    "col_list = ['TEAGE', \"TESEX\", 'PEEDUCA', 't040102', 't050101', 't070201', 't110201', 't120302', 't120307', 't120312', 't180501', 't180702']\n",
    "activity_sum = activity_sum[col_list]"
   ]
  },
  {
   "cell_type": "code",
   "execution_count": 4,
   "metadata": {
    "collapsed": false
   },
   "outputs": [],
   "source": [
    "activity_sum = activity_sum.rename(columns={'TEAGE': 'AGE', 'TESEX':'SEX', 't040102':\"TAKING CARE OF OTHER'S KIDS\", 'PEEDUCA':'EDUCATION', 't050101':'WORKING', 't070201': 'COMPARISON SHOPPING', 't110201':'WAITING TO EAT/DRINK', 't120302':'TOBACCO/DRUG USE', 't120307': 'PLAYING GAMES', 't120312':'READING FOR PLEASURE', 't180501':'TRAVELING TO WORK', 't180702':'TRAVELING TO PURCHASE GAS'})"
   ]
  },
  {
   "cell_type": "code",
   "execution_count": 5,
   "metadata": {
    "collapsed": false
   },
   "outputs": [
    {
     "data": {
      "text/html": [
       "<div>\n",
       "<table border=\"1\" class=\"dataframe\">\n",
       "  <thead>\n",
       "    <tr style=\"text-align: right;\">\n",
       "      <th></th>\n",
       "      <th>AGE</th>\n",
       "      <th>SEX</th>\n",
       "      <th>EDUCATION</th>\n",
       "      <th>TAKING CARE OF OTHER'S KIDS</th>\n",
       "      <th>WORKING</th>\n",
       "      <th>COMPARISON SHOPPING</th>\n",
       "      <th>WAITING TO EAT/DRINK</th>\n",
       "      <th>TOBACCO/DRUG USE</th>\n",
       "      <th>PLAYING GAMES</th>\n",
       "      <th>READING FOR PLEASURE</th>\n",
       "      <th>TRAVELING TO WORK</th>\n",
       "      <th>TRAVELING TO PURCHASE GAS</th>\n",
       "    </tr>\n",
       "  </thead>\n",
       "  <tbody>\n",
       "    <tr>\n",
       "      <th>0</th>\n",
       "      <td>20</td>\n",
       "      <td>2</td>\n",
       "      <td>39</td>\n",
       "      <td>0</td>\n",
       "      <td>0</td>\n",
       "      <td>0</td>\n",
       "      <td>0</td>\n",
       "      <td>0</td>\n",
       "      <td>0</td>\n",
       "      <td>0</td>\n",
       "      <td>0</td>\n",
       "      <td>0</td>\n",
       "    </tr>\n",
       "    <tr>\n",
       "      <th>1</th>\n",
       "      <td>16</td>\n",
       "      <td>2</td>\n",
       "      <td>37</td>\n",
       "      <td>0</td>\n",
       "      <td>465</td>\n",
       "      <td>0</td>\n",
       "      <td>0</td>\n",
       "      <td>0</td>\n",
       "      <td>0</td>\n",
       "      <td>0</td>\n",
       "      <td>90</td>\n",
       "      <td>0</td>\n",
       "    </tr>\n",
       "    <tr>\n",
       "      <th>2</th>\n",
       "      <td>65</td>\n",
       "      <td>2</td>\n",
       "      <td>38</td>\n",
       "      <td>0</td>\n",
       "      <td>0</td>\n",
       "      <td>0</td>\n",
       "      <td>0</td>\n",
       "      <td>0</td>\n",
       "      <td>0</td>\n",
       "      <td>0</td>\n",
       "      <td>0</td>\n",
       "      <td>0</td>\n",
       "    </tr>\n",
       "    <tr>\n",
       "      <th>3</th>\n",
       "      <td>50</td>\n",
       "      <td>2</td>\n",
       "      <td>39</td>\n",
       "      <td>0</td>\n",
       "      <td>0</td>\n",
       "      <td>0</td>\n",
       "      <td>0</td>\n",
       "      <td>0</td>\n",
       "      <td>0</td>\n",
       "      <td>0</td>\n",
       "      <td>0</td>\n",
       "      <td>0</td>\n",
       "    </tr>\n",
       "    <tr>\n",
       "      <th>4</th>\n",
       "      <td>23</td>\n",
       "      <td>2</td>\n",
       "      <td>39</td>\n",
       "      <td>0</td>\n",
       "      <td>0</td>\n",
       "      <td>0</td>\n",
       "      <td>0</td>\n",
       "      <td>0</td>\n",
       "      <td>0</td>\n",
       "      <td>0</td>\n",
       "      <td>0</td>\n",
       "      <td>0</td>\n",
       "    </tr>\n",
       "  </tbody>\n",
       "</table>\n",
       "</div>"
      ],
      "text/plain": [
       "   AGE  SEX  EDUCATION  TAKING CARE OF OTHER'S KIDS  WORKING  \\\n",
       "0   20    2         39                            0        0   \n",
       "1   16    2         37                            0      465   \n",
       "2   65    2         38                            0        0   \n",
       "3   50    2         39                            0        0   \n",
       "4   23    2         39                            0        0   \n",
       "\n",
       "   COMPARISON SHOPPING  WAITING TO EAT/DRINK  TOBACCO/DRUG USE  PLAYING GAMES  \\\n",
       "0                    0                     0                 0              0   \n",
       "1                    0                     0                 0              0   \n",
       "2                    0                     0                 0              0   \n",
       "3                    0                     0                 0              0   \n",
       "4                    0                     0                 0              0   \n",
       "\n",
       "   READING FOR PLEASURE  TRAVELING TO WORK  TRAVELING TO PURCHASE GAS  \n",
       "0                     0                  0                          0  \n",
       "1                     0                 90                          0  \n",
       "2                     0                  0                          0  \n",
       "3                     0                  0                          0  \n",
       "4                     0                  0                          0  "
      ]
     },
     "execution_count": 5,
     "metadata": {},
     "output_type": "execute_result"
    }
   ],
   "source": [
    "activity_sum.head()"
   ]
  },
  {
   "cell_type": "code",
   "execution_count": 6,
   "metadata": {
    "collapsed": false
   },
   "outputs": [],
   "source": [
    "sex_sum = activity_sum.set_index('SEX')\n",
    "age_sum = activity_sum.set_index('AGE')\n",
    "edu_sum = activity_sum.set_index('EDUCATION')"
   ]
  },
  {
   "cell_type": "code",
   "execution_count": 7,
   "metadata": {
    "collapsed": false,
    "scrolled": true
   },
   "outputs": [
    {
     "data": {
      "text/html": [
       "<div>\n",
       "<table border=\"1\" class=\"dataframe\">\n",
       "  <thead>\n",
       "    <tr style=\"text-align: right;\">\n",
       "      <th></th>\n",
       "      <th>AGE</th>\n",
       "      <th>EDUCATION</th>\n",
       "      <th>TAKING CARE OF OTHER'S KIDS</th>\n",
       "      <th>WORKING</th>\n",
       "      <th>COMPARISON SHOPPING</th>\n",
       "      <th>WAITING TO EAT/DRINK</th>\n",
       "      <th>TOBACCO/DRUG USE</th>\n",
       "      <th>PLAYING GAMES</th>\n",
       "      <th>READING FOR PLEASURE</th>\n",
       "      <th>TRAVELING TO WORK</th>\n",
       "      <th>TRAVELING TO PURCHASE GAS</th>\n",
       "    </tr>\n",
       "    <tr>\n",
       "      <th>SEX</th>\n",
       "      <th></th>\n",
       "      <th></th>\n",
       "      <th></th>\n",
       "      <th></th>\n",
       "      <th></th>\n",
       "      <th></th>\n",
       "      <th></th>\n",
       "      <th></th>\n",
       "      <th></th>\n",
       "      <th></th>\n",
       "      <th></th>\n",
       "    </tr>\n",
       "  </thead>\n",
       "  <tbody>\n",
       "    <tr>\n",
       "      <th>2</th>\n",
       "      <td>20</td>\n",
       "      <td>39</td>\n",
       "      <td>0</td>\n",
       "      <td>0</td>\n",
       "      <td>0</td>\n",
       "      <td>0</td>\n",
       "      <td>0</td>\n",
       "      <td>0</td>\n",
       "      <td>0</td>\n",
       "      <td>0</td>\n",
       "      <td>0</td>\n",
       "    </tr>\n",
       "    <tr>\n",
       "      <th>2</th>\n",
       "      <td>16</td>\n",
       "      <td>37</td>\n",
       "      <td>0</td>\n",
       "      <td>465</td>\n",
       "      <td>0</td>\n",
       "      <td>0</td>\n",
       "      <td>0</td>\n",
       "      <td>0</td>\n",
       "      <td>0</td>\n",
       "      <td>90</td>\n",
       "      <td>0</td>\n",
       "    </tr>\n",
       "    <tr>\n",
       "      <th>2</th>\n",
       "      <td>65</td>\n",
       "      <td>38</td>\n",
       "      <td>0</td>\n",
       "      <td>0</td>\n",
       "      <td>0</td>\n",
       "      <td>0</td>\n",
       "      <td>0</td>\n",
       "      <td>0</td>\n",
       "      <td>0</td>\n",
       "      <td>0</td>\n",
       "      <td>0</td>\n",
       "    </tr>\n",
       "    <tr>\n",
       "      <th>2</th>\n",
       "      <td>50</td>\n",
       "      <td>39</td>\n",
       "      <td>0</td>\n",
       "      <td>0</td>\n",
       "      <td>0</td>\n",
       "      <td>0</td>\n",
       "      <td>0</td>\n",
       "      <td>0</td>\n",
       "      <td>0</td>\n",
       "      <td>0</td>\n",
       "      <td>0</td>\n",
       "    </tr>\n",
       "    <tr>\n",
       "      <th>2</th>\n",
       "      <td>23</td>\n",
       "      <td>39</td>\n",
       "      <td>0</td>\n",
       "      <td>0</td>\n",
       "      <td>0</td>\n",
       "      <td>0</td>\n",
       "      <td>0</td>\n",
       "      <td>0</td>\n",
       "      <td>0</td>\n",
       "      <td>0</td>\n",
       "      <td>0</td>\n",
       "    </tr>\n",
       "  </tbody>\n",
       "</table>\n",
       "</div>"
      ],
      "text/plain": [
       "     AGE  EDUCATION  TAKING CARE OF OTHER'S KIDS  WORKING  \\\n",
       "SEX                                                         \n",
       "2     20         39                            0        0   \n",
       "2     16         37                            0      465   \n",
       "2     65         38                            0        0   \n",
       "2     50         39                            0        0   \n",
       "2     23         39                            0        0   \n",
       "\n",
       "     COMPARISON SHOPPING  WAITING TO EAT/DRINK  TOBACCO/DRUG USE  \\\n",
       "SEX                                                                \n",
       "2                      0                     0                 0   \n",
       "2                      0                     0                 0   \n",
       "2                      0                     0                 0   \n",
       "2                      0                     0                 0   \n",
       "2                      0                     0                 0   \n",
       "\n",
       "     PLAYING GAMES  READING FOR PLEASURE  TRAVELING TO WORK  \\\n",
       "SEX                                                           \n",
       "2                0                     0                  0   \n",
       "2                0                     0                 90   \n",
       "2                0                     0                  0   \n",
       "2                0                     0                  0   \n",
       "2                0                     0                  0   \n",
       "\n",
       "     TRAVELING TO PURCHASE GAS  \n",
       "SEX                             \n",
       "2                            0  \n",
       "2                            0  \n",
       "2                            0  \n",
       "2                            0  \n",
       "2                            0  "
      ]
     },
     "execution_count": 7,
     "metadata": {},
     "output_type": "execute_result"
    }
   ],
   "source": [
    "sex_sum.head()"
   ]
  },
  {
   "cell_type": "code",
   "execution_count": 43,
   "metadata": {
    "collapsed": false
   },
   "outputs": [],
   "source": [
    "sex_sum = sex_sum.sort_index()"
   ]
  },
  {
   "cell_type": "code",
   "execution_count": null,
   "metadata": {
    "collapsed": false
   },
   "outputs": [],
   "source": []
  },
  {
   "cell_type": "code",
   "execution_count": 9,
   "metadata": {
    "collapsed": true
   },
   "outputs": [],
   "source": [
    "# sex_sum.plot(\"WORKING\", kind = 'bar')"
   ]
  },
  {
   "cell_type": "code",
   "execution_count": 10,
   "metadata": {
    "collapsed": true
   },
   "outputs": [],
   "source": [
    "# sex_sum.plot(\"COMPARISON SHOPPING\", kind = 'bar')"
   ]
  },
  {
   "cell_type": "code",
   "execution_count": 11,
   "metadata": {
    "collapsed": true
   },
   "outputs": [],
   "source": [
    "# sex_sum.plot(\"WAITING TO EAT/DRINK\", kind = 'bar')"
   ]
  },
  {
   "cell_type": "code",
   "execution_count": 12,
   "metadata": {
    "collapsed": true
   },
   "outputs": [],
   "source": [
    "# sex_sum.plot('TOBACCO/DRUG USE', kind = 'bar')"
   ]
  },
  {
   "cell_type": "code",
   "execution_count": 13,
   "metadata": {
    "collapsed": true
   },
   "outputs": [],
   "source": [
    "# sex_sum.plot(\"PLAYING GAMES\", kind = 'bar')"
   ]
  },
  {
   "cell_type": "code",
   "execution_count": 14,
   "metadata": {
    "collapsed": true
   },
   "outputs": [],
   "source": [
    "# sex_sum.plot(\"READING FOR PLEASURE\", kind = 'bar')"
   ]
  },
  {
   "cell_type": "code",
   "execution_count": 15,
   "metadata": {
    "collapsed": true
   },
   "outputs": [],
   "source": [
    "# sex_sum.plot(\"TRAVELING TO WORK\", kind = 'bar')"
   ]
  },
  {
   "cell_type": "code",
   "execution_count": 16,
   "metadata": {
    "collapsed": true
   },
   "outputs": [],
   "source": [
    "# sex_sum.plot(\"TRAVELING TO PURCHASE GAS\", kind = 'bar')"
   ]
  },
  {
   "cell_type": "code",
   "execution_count": 17,
   "metadata": {
    "collapsed": false
   },
   "outputs": [
    {
     "data": {
      "text/html": [
       "<div>\n",
       "<table border=\"1\" class=\"dataframe\">\n",
       "  <thead>\n",
       "    <tr style=\"text-align: right;\">\n",
       "      <th></th>\n",
       "      <th>AGE</th>\n",
       "      <th>EDUCATION</th>\n",
       "      <th>TAKING CARE OF OTHER'S KIDS</th>\n",
       "      <th>WORKING</th>\n",
       "      <th>COMPARISON SHOPPING</th>\n",
       "      <th>WAITING TO EAT/DRINK</th>\n",
       "      <th>TOBACCO/DRUG USE</th>\n",
       "      <th>PLAYING GAMES</th>\n",
       "      <th>READING FOR PLEASURE</th>\n",
       "      <th>TRAVELING TO WORK</th>\n",
       "      <th>TRAVELING TO PURCHASE GAS</th>\n",
       "    </tr>\n",
       "  </thead>\n",
       "  <tbody>\n",
       "    <tr>\n",
       "      <th>count</th>\n",
       "      <td>11592.000000</td>\n",
       "      <td>11592.000000</td>\n",
       "      <td>11592.000000</td>\n",
       "      <td>11592.000000</td>\n",
       "      <td>11592.000000</td>\n",
       "      <td>11592.000000</td>\n",
       "      <td>11592.000000</td>\n",
       "      <td>11592.000000</td>\n",
       "      <td>11592.000000</td>\n",
       "      <td>11592.000000</td>\n",
       "      <td>11592.000000</td>\n",
       "    </tr>\n",
       "    <tr>\n",
       "      <th>mean</th>\n",
       "      <td>48.797188</td>\n",
       "      <td>40.522774</td>\n",
       "      <td>0.057453</td>\n",
       "      <td>150.513975</td>\n",
       "      <td>0.026743</td>\n",
       "      <td>0.197981</td>\n",
       "      <td>0.407264</td>\n",
       "      <td>12.163389</td>\n",
       "      <td>21.531142</td>\n",
       "      <td>12.267167</td>\n",
       "      <td>1.400794</td>\n",
       "    </tr>\n",
       "    <tr>\n",
       "      <th>std</th>\n",
       "      <td>17.892812</td>\n",
       "      <td>2.822656</td>\n",
       "      <td>2.242670</td>\n",
       "      <td>238.352837</td>\n",
       "      <td>1.247609</td>\n",
       "      <td>2.542515</td>\n",
       "      <td>6.442731</td>\n",
       "      <td>54.145475</td>\n",
       "      <td>60.458648</td>\n",
       "      <td>30.516571</td>\n",
       "      <td>14.398281</td>\n",
       "    </tr>\n",
       "    <tr>\n",
       "      <th>min</th>\n",
       "      <td>15.000000</td>\n",
       "      <td>31.000000</td>\n",
       "      <td>0.000000</td>\n",
       "      <td>0.000000</td>\n",
       "      <td>0.000000</td>\n",
       "      <td>0.000000</td>\n",
       "      <td>0.000000</td>\n",
       "      <td>0.000000</td>\n",
       "      <td>0.000000</td>\n",
       "      <td>0.000000</td>\n",
       "      <td>0.000000</td>\n",
       "    </tr>\n",
       "    <tr>\n",
       "      <th>25%</th>\n",
       "      <td>35.000000</td>\n",
       "      <td>39.000000</td>\n",
       "      <td>0.000000</td>\n",
       "      <td>0.000000</td>\n",
       "      <td>0.000000</td>\n",
       "      <td>0.000000</td>\n",
       "      <td>0.000000</td>\n",
       "      <td>0.000000</td>\n",
       "      <td>0.000000</td>\n",
       "      <td>0.000000</td>\n",
       "      <td>0.000000</td>\n",
       "    </tr>\n",
       "    <tr>\n",
       "      <th>50%</th>\n",
       "      <td>48.000000</td>\n",
       "      <td>40.000000</td>\n",
       "      <td>0.000000</td>\n",
       "      <td>0.000000</td>\n",
       "      <td>0.000000</td>\n",
       "      <td>0.000000</td>\n",
       "      <td>0.000000</td>\n",
       "      <td>0.000000</td>\n",
       "      <td>0.000000</td>\n",
       "      <td>0.000000</td>\n",
       "      <td>0.000000</td>\n",
       "    </tr>\n",
       "    <tr>\n",
       "      <th>75%</th>\n",
       "      <td>63.000000</td>\n",
       "      <td>43.000000</td>\n",
       "      <td>0.000000</td>\n",
       "      <td>360.250000</td>\n",
       "      <td>0.000000</td>\n",
       "      <td>0.000000</td>\n",
       "      <td>0.000000</td>\n",
       "      <td>0.000000</td>\n",
       "      <td>0.000000</td>\n",
       "      <td>10.000000</td>\n",
       "      <td>0.000000</td>\n",
       "    </tr>\n",
       "    <tr>\n",
       "      <th>max</th>\n",
       "      <td>85.000000</td>\n",
       "      <td>46.000000</td>\n",
       "      <td>180.000000</td>\n",
       "      <td>1265.000000</td>\n",
       "      <td>90.000000</td>\n",
       "      <td>90.000000</td>\n",
       "      <td>475.000000</td>\n",
       "      <td>798.000000</td>\n",
       "      <td>810.000000</td>\n",
       "      <td>1110.000000</td>\n",
       "      <td>720.000000</td>\n",
       "    </tr>\n",
       "  </tbody>\n",
       "</table>\n",
       "</div>"
      ],
      "text/plain": [
       "                AGE     EDUCATION  TAKING CARE OF OTHER'S KIDS       WORKING  \\\n",
       "count  11592.000000  11592.000000                 11592.000000  11592.000000   \n",
       "mean      48.797188     40.522774                     0.057453    150.513975   \n",
       "std       17.892812      2.822656                     2.242670    238.352837   \n",
       "min       15.000000     31.000000                     0.000000      0.000000   \n",
       "25%       35.000000     39.000000                     0.000000      0.000000   \n",
       "50%       48.000000     40.000000                     0.000000      0.000000   \n",
       "75%       63.000000     43.000000                     0.000000    360.250000   \n",
       "max       85.000000     46.000000                   180.000000   1265.000000   \n",
       "\n",
       "       COMPARISON SHOPPING  WAITING TO EAT/DRINK  TOBACCO/DRUG USE  \\\n",
       "count         11592.000000          11592.000000      11592.000000   \n",
       "mean              0.026743              0.197981          0.407264   \n",
       "std               1.247609              2.542515          6.442731   \n",
       "min               0.000000              0.000000          0.000000   \n",
       "25%               0.000000              0.000000          0.000000   \n",
       "50%               0.000000              0.000000          0.000000   \n",
       "75%               0.000000              0.000000          0.000000   \n",
       "max              90.000000             90.000000        475.000000   \n",
       "\n",
       "       PLAYING GAMES  READING FOR PLEASURE  TRAVELING TO WORK  \\\n",
       "count   11592.000000          11592.000000       11592.000000   \n",
       "mean       12.163389             21.531142          12.267167   \n",
       "std        54.145475             60.458648          30.516571   \n",
       "min         0.000000              0.000000           0.000000   \n",
       "25%         0.000000              0.000000           0.000000   \n",
       "50%         0.000000              0.000000           0.000000   \n",
       "75%         0.000000              0.000000          10.000000   \n",
       "max       798.000000            810.000000        1110.000000   \n",
       "\n",
       "       TRAVELING TO PURCHASE GAS  \n",
       "count               11592.000000  \n",
       "mean                    1.400794  \n",
       "std                    14.398281  \n",
       "min                     0.000000  \n",
       "25%                     0.000000  \n",
       "50%                     0.000000  \n",
       "75%                     0.000000  \n",
       "max                   720.000000  "
      ]
     },
     "execution_count": 17,
     "metadata": {},
     "output_type": "execute_result"
    }
   ],
   "source": [
    "sex_sum.describe()"
   ]
  },
  {
   "cell_type": "code",
   "execution_count": 18,
   "metadata": {
    "collapsed": false
   },
   "outputs": [
    {
     "data": {
      "text/html": [
       "<div>\n",
       "<table border=\"1\" class=\"dataframe\">\n",
       "  <thead>\n",
       "    <tr style=\"text-align: right;\">\n",
       "      <th></th>\n",
       "      <th>SEX</th>\n",
       "      <th>EDUCATION</th>\n",
       "      <th>TAKING CARE OF OTHER'S KIDS</th>\n",
       "      <th>WORKING</th>\n",
       "      <th>COMPARISON SHOPPING</th>\n",
       "      <th>WAITING TO EAT/DRINK</th>\n",
       "      <th>TOBACCO/DRUG USE</th>\n",
       "      <th>PLAYING GAMES</th>\n",
       "      <th>READING FOR PLEASURE</th>\n",
       "      <th>TRAVELING TO WORK</th>\n",
       "      <th>TRAVELING TO PURCHASE GAS</th>\n",
       "    </tr>\n",
       "    <tr>\n",
       "      <th>AGE</th>\n",
       "      <th></th>\n",
       "      <th></th>\n",
       "      <th></th>\n",
       "      <th></th>\n",
       "      <th></th>\n",
       "      <th></th>\n",
       "      <th></th>\n",
       "      <th></th>\n",
       "      <th></th>\n",
       "      <th></th>\n",
       "      <th></th>\n",
       "    </tr>\n",
       "  </thead>\n",
       "  <tbody>\n",
       "    <tr>\n",
       "      <th>20</th>\n",
       "      <td>2</td>\n",
       "      <td>39</td>\n",
       "      <td>0</td>\n",
       "      <td>0</td>\n",
       "      <td>0</td>\n",
       "      <td>0</td>\n",
       "      <td>0</td>\n",
       "      <td>0</td>\n",
       "      <td>0</td>\n",
       "      <td>0</td>\n",
       "      <td>0</td>\n",
       "    </tr>\n",
       "    <tr>\n",
       "      <th>16</th>\n",
       "      <td>2</td>\n",
       "      <td>37</td>\n",
       "      <td>0</td>\n",
       "      <td>465</td>\n",
       "      <td>0</td>\n",
       "      <td>0</td>\n",
       "      <td>0</td>\n",
       "      <td>0</td>\n",
       "      <td>0</td>\n",
       "      <td>90</td>\n",
       "      <td>0</td>\n",
       "    </tr>\n",
       "    <tr>\n",
       "      <th>65</th>\n",
       "      <td>2</td>\n",
       "      <td>38</td>\n",
       "      <td>0</td>\n",
       "      <td>0</td>\n",
       "      <td>0</td>\n",
       "      <td>0</td>\n",
       "      <td>0</td>\n",
       "      <td>0</td>\n",
       "      <td>0</td>\n",
       "      <td>0</td>\n",
       "      <td>0</td>\n",
       "    </tr>\n",
       "    <tr>\n",
       "      <th>50</th>\n",
       "      <td>2</td>\n",
       "      <td>39</td>\n",
       "      <td>0</td>\n",
       "      <td>0</td>\n",
       "      <td>0</td>\n",
       "      <td>0</td>\n",
       "      <td>0</td>\n",
       "      <td>0</td>\n",
       "      <td>0</td>\n",
       "      <td>0</td>\n",
       "      <td>0</td>\n",
       "    </tr>\n",
       "    <tr>\n",
       "      <th>23</th>\n",
       "      <td>2</td>\n",
       "      <td>39</td>\n",
       "      <td>0</td>\n",
       "      <td>0</td>\n",
       "      <td>0</td>\n",
       "      <td>0</td>\n",
       "      <td>0</td>\n",
       "      <td>0</td>\n",
       "      <td>0</td>\n",
       "      <td>0</td>\n",
       "      <td>0</td>\n",
       "    </tr>\n",
       "  </tbody>\n",
       "</table>\n",
       "</div>"
      ],
      "text/plain": [
       "     SEX  EDUCATION  TAKING CARE OF OTHER'S KIDS  WORKING  \\\n",
       "AGE                                                         \n",
       "20     2         39                            0        0   \n",
       "16     2         37                            0      465   \n",
       "65     2         38                            0        0   \n",
       "50     2         39                            0        0   \n",
       "23     2         39                            0        0   \n",
       "\n",
       "     COMPARISON SHOPPING  WAITING TO EAT/DRINK  TOBACCO/DRUG USE  \\\n",
       "AGE                                                                \n",
       "20                     0                     0                 0   \n",
       "16                     0                     0                 0   \n",
       "65                     0                     0                 0   \n",
       "50                     0                     0                 0   \n",
       "23                     0                     0                 0   \n",
       "\n",
       "     PLAYING GAMES  READING FOR PLEASURE  TRAVELING TO WORK  \\\n",
       "AGE                                                           \n",
       "20               0                     0                  0   \n",
       "16               0                     0                 90   \n",
       "65               0                     0                  0   \n",
       "50               0                     0                  0   \n",
       "23               0                     0                  0   \n",
       "\n",
       "     TRAVELING TO PURCHASE GAS  \n",
       "AGE                             \n",
       "20                           0  \n",
       "16                           0  \n",
       "65                           0  \n",
       "50                           0  \n",
       "23                           0  "
      ]
     },
     "execution_count": 18,
     "metadata": {},
     "output_type": "execute_result"
    }
   ],
   "source": [
    "age_sum.head()"
   ]
  },
  {
   "cell_type": "code",
   "execution_count": 19,
   "metadata": {
    "collapsed": false
   },
   "outputs": [],
   "source": [
    "age_sum = age_sum.sort_index()"
   ]
  },
  {
   "cell_type": "code",
   "execution_count": null,
   "metadata": {
    "collapsed": true
   },
   "outputs": [],
   "source": []
  },
  {
   "cell_type": "code",
   "execution_count": 20,
   "metadata": {
    "collapsed": false
   },
   "outputs": [
    {
     "data": {
      "text/html": [
       "<div>\n",
       "<table border=\"1\" class=\"dataframe\">\n",
       "  <thead>\n",
       "    <tr style=\"text-align: right;\">\n",
       "      <th></th>\n",
       "      <th>SEX</th>\n",
       "      <th>EDUCATION</th>\n",
       "      <th>TAKING CARE OF OTHER'S KIDS</th>\n",
       "      <th>WORKING</th>\n",
       "      <th>COMPARISON SHOPPING</th>\n",
       "      <th>WAITING TO EAT/DRINK</th>\n",
       "      <th>TOBACCO/DRUG USE</th>\n",
       "      <th>PLAYING GAMES</th>\n",
       "      <th>READING FOR PLEASURE</th>\n",
       "      <th>TRAVELING TO WORK</th>\n",
       "      <th>TRAVELING TO PURCHASE GAS</th>\n",
       "    </tr>\n",
       "  </thead>\n",
       "  <tbody>\n",
       "    <tr>\n",
       "      <th>count</th>\n",
       "      <td>11592.000000</td>\n",
       "      <td>11592.000000</td>\n",
       "      <td>11592.000000</td>\n",
       "      <td>11592.000000</td>\n",
       "      <td>11592.000000</td>\n",
       "      <td>11592.000000</td>\n",
       "      <td>11592.000000</td>\n",
       "      <td>11592.000000</td>\n",
       "      <td>11592.000000</td>\n",
       "      <td>11592.000000</td>\n",
       "      <td>11592.000000</td>\n",
       "    </tr>\n",
       "    <tr>\n",
       "      <th>mean</th>\n",
       "      <td>1.557971</td>\n",
       "      <td>40.522774</td>\n",
       "      <td>0.057453</td>\n",
       "      <td>150.513975</td>\n",
       "      <td>0.026743</td>\n",
       "      <td>0.197981</td>\n",
       "      <td>0.407264</td>\n",
       "      <td>12.163389</td>\n",
       "      <td>21.531142</td>\n",
       "      <td>12.267167</td>\n",
       "      <td>1.400794</td>\n",
       "    </tr>\n",
       "    <tr>\n",
       "      <th>std</th>\n",
       "      <td>0.496649</td>\n",
       "      <td>2.822656</td>\n",
       "      <td>2.242670</td>\n",
       "      <td>238.352837</td>\n",
       "      <td>1.247609</td>\n",
       "      <td>2.542515</td>\n",
       "      <td>6.442731</td>\n",
       "      <td>54.145475</td>\n",
       "      <td>60.458648</td>\n",
       "      <td>30.516571</td>\n",
       "      <td>14.398281</td>\n",
       "    </tr>\n",
       "    <tr>\n",
       "      <th>min</th>\n",
       "      <td>1.000000</td>\n",
       "      <td>31.000000</td>\n",
       "      <td>0.000000</td>\n",
       "      <td>0.000000</td>\n",
       "      <td>0.000000</td>\n",
       "      <td>0.000000</td>\n",
       "      <td>0.000000</td>\n",
       "      <td>0.000000</td>\n",
       "      <td>0.000000</td>\n",
       "      <td>0.000000</td>\n",
       "      <td>0.000000</td>\n",
       "    </tr>\n",
       "    <tr>\n",
       "      <th>25%</th>\n",
       "      <td>1.000000</td>\n",
       "      <td>39.000000</td>\n",
       "      <td>0.000000</td>\n",
       "      <td>0.000000</td>\n",
       "      <td>0.000000</td>\n",
       "      <td>0.000000</td>\n",
       "      <td>0.000000</td>\n",
       "      <td>0.000000</td>\n",
       "      <td>0.000000</td>\n",
       "      <td>0.000000</td>\n",
       "      <td>0.000000</td>\n",
       "    </tr>\n",
       "    <tr>\n",
       "      <th>50%</th>\n",
       "      <td>2.000000</td>\n",
       "      <td>40.000000</td>\n",
       "      <td>0.000000</td>\n",
       "      <td>0.000000</td>\n",
       "      <td>0.000000</td>\n",
       "      <td>0.000000</td>\n",
       "      <td>0.000000</td>\n",
       "      <td>0.000000</td>\n",
       "      <td>0.000000</td>\n",
       "      <td>0.000000</td>\n",
       "      <td>0.000000</td>\n",
       "    </tr>\n",
       "    <tr>\n",
       "      <th>75%</th>\n",
       "      <td>2.000000</td>\n",
       "      <td>43.000000</td>\n",
       "      <td>0.000000</td>\n",
       "      <td>360.250000</td>\n",
       "      <td>0.000000</td>\n",
       "      <td>0.000000</td>\n",
       "      <td>0.000000</td>\n",
       "      <td>0.000000</td>\n",
       "      <td>0.000000</td>\n",
       "      <td>10.000000</td>\n",
       "      <td>0.000000</td>\n",
       "    </tr>\n",
       "    <tr>\n",
       "      <th>max</th>\n",
       "      <td>2.000000</td>\n",
       "      <td>46.000000</td>\n",
       "      <td>180.000000</td>\n",
       "      <td>1265.000000</td>\n",
       "      <td>90.000000</td>\n",
       "      <td>90.000000</td>\n",
       "      <td>475.000000</td>\n",
       "      <td>798.000000</td>\n",
       "      <td>810.000000</td>\n",
       "      <td>1110.000000</td>\n",
       "      <td>720.000000</td>\n",
       "    </tr>\n",
       "  </tbody>\n",
       "</table>\n",
       "</div>"
      ],
      "text/plain": [
       "                SEX     EDUCATION  TAKING CARE OF OTHER'S KIDS       WORKING  \\\n",
       "count  11592.000000  11592.000000                 11592.000000  11592.000000   \n",
       "mean       1.557971     40.522774                     0.057453    150.513975   \n",
       "std        0.496649      2.822656                     2.242670    238.352837   \n",
       "min        1.000000     31.000000                     0.000000      0.000000   \n",
       "25%        1.000000     39.000000                     0.000000      0.000000   \n",
       "50%        2.000000     40.000000                     0.000000      0.000000   \n",
       "75%        2.000000     43.000000                     0.000000    360.250000   \n",
       "max        2.000000     46.000000                   180.000000   1265.000000   \n",
       "\n",
       "       COMPARISON SHOPPING  WAITING TO EAT/DRINK  TOBACCO/DRUG USE  \\\n",
       "count         11592.000000          11592.000000      11592.000000   \n",
       "mean              0.026743              0.197981          0.407264   \n",
       "std               1.247609              2.542515          6.442731   \n",
       "min               0.000000              0.000000          0.000000   \n",
       "25%               0.000000              0.000000          0.000000   \n",
       "50%               0.000000              0.000000          0.000000   \n",
       "75%               0.000000              0.000000          0.000000   \n",
       "max              90.000000             90.000000        475.000000   \n",
       "\n",
       "       PLAYING GAMES  READING FOR PLEASURE  TRAVELING TO WORK  \\\n",
       "count   11592.000000          11592.000000       11592.000000   \n",
       "mean       12.163389             21.531142          12.267167   \n",
       "std        54.145475             60.458648          30.516571   \n",
       "min         0.000000              0.000000           0.000000   \n",
       "25%         0.000000              0.000000           0.000000   \n",
       "50%         0.000000              0.000000           0.000000   \n",
       "75%         0.000000              0.000000          10.000000   \n",
       "max       798.000000            810.000000        1110.000000   \n",
       "\n",
       "       TRAVELING TO PURCHASE GAS  \n",
       "count               11592.000000  \n",
       "mean                    1.400794  \n",
       "std                    14.398281  \n",
       "min                     0.000000  \n",
       "25%                     0.000000  \n",
       "50%                     0.000000  \n",
       "75%                     0.000000  \n",
       "max                   720.000000  "
      ]
     },
     "execution_count": 20,
     "metadata": {},
     "output_type": "execute_result"
    }
   ],
   "source": [
    "age_sum.describe()"
   ]
  },
  {
   "cell_type": "code",
   "execution_count": 21,
   "metadata": {
    "collapsed": false,
    "scrolled": true
   },
   "outputs": [
    {
     "data": {
      "text/plain": [
       "<matplotlib.axes._subplots.AxesSubplot at 0x10b59f780>"
      ]
     },
     "execution_count": 21,
     "metadata": {},
     "output_type": "execute_result"
    },
    {
     "data": {
      "image/png": "[encoded data removed]",
      "text/plain": [
       "<matplotlib.figure.Figure at 0x10b6d8e48>"
      ]
     },
     "metadata": {},
     "output_type": "display_data"
    }
   ],
   "source": [
    "age_sum.plot(y='COMPARISON SHOPPING', kind = 'bar')"
   ]
  },
  {
   "cell_type": "code",
   "execution_count": 22,
   "metadata": {
    "collapsed": false
   },
   "outputs": [
    {
     "data": {
      "text/plain": [
       "<matplotlib.axes._subplots.AxesSubplot at 0x10bc5ecf8>"
      ]
     },
     "execution_count": 22,
     "metadata": {},
     "output_type": "execute_result"
    },
    {
     "data": {
      "image/png": "[encoded data removed]",
      "text/plain": [
       "<matplotlib.figure.Figure at 0x10b59fdd8>"
      ]
     },
     "metadata": {},
     "output_type": "display_data"
    }
   ],
   "source": [
    "age_sum.plot(y=\"TAKING CARE OF OTHER'S KIDS\", kind = 'bar')"
   ]
  },
  {
   "cell_type": "code",
   "execution_count": 23,
   "metadata": {
    "collapsed": false
   },
   "outputs": [
    {
     "data": {
      "text/plain": [
       "<matplotlib.axes._subplots.AxesSubplot at 0x11027aeb8>"
      ]
     },
     "execution_count": 23,
     "metadata": {},
     "output_type": "execute_result"
    },
    {
     "data": {
      "image/png": "[encoded data removed]",
      "text/plain": [
       "<matplotlib.figure.Figure at 0x107ce3780>"
      ]
     },
     "metadata": {},
     "output_type": "display_data"
    }
   ],
   "source": [
    "age_sum.plot(y=\"WORKING\", kind = 'bar')"
   ]
  },
  {
   "cell_type": "code",
   "execution_count": 24,
   "metadata": {
    "collapsed": false
   },
   "outputs": [
    {
     "data": {
      "text/plain": [
       "<matplotlib.axes._subplots.AxesSubplot at 0x114b30b00>"
      ]
     },
     "execution_count": 24,
     "metadata": {},
     "output_type": "execute_result"
    },
    {
     "data": {
      "image/png": "[encoded data removed]",
      "text/plain": [
       "<matplotlib.figure.Figure at 0x113237400>"
      ]
     },
     "metadata": {},
     "output_type": "display_data"
    }
   ],
   "source": [
    "age_sum.plot(y=\"WAITING TO EAT/DRINK\", kind = 'bar')"
   ]
  },
  {
   "cell_type": "code",
   "execution_count": 25,
   "metadata": {
    "collapsed": false
   },
   "outputs": [
    {
     "data": {
      "text/plain": [
       "<matplotlib.axes._subplots.AxesSubplot at 0x124de1da0>"
      ]
     },
     "execution_count": 25,
     "metadata": {},
     "output_type": "execute_result"
    },
    {
     "data": {
      "image/png": "[encoded data removed]",
      "text/plain": [
       "<matplotlib.figure.Figure at 0x107d3b9e8>"
      ]
     },
     "metadata": {},
     "output_type": "display_data"
    }
   ],
   "source": [
    "age_sum.plot(y=\"TOBACCO/DRUG USE\", kind = 'bar')"
   ]
  },
  {
   "cell_type": "code",
   "execution_count": 26,
   "metadata": {
    "collapsed": false
   },
   "outputs": [
    {
     "data": {
      "text/plain": [
       "<matplotlib.axes._subplots.AxesSubplot at 0x134a0e4e0>"
      ]
     },
     "execution_count": 26,
     "metadata": {},
     "output_type": "execute_result"
    },
    {
     "data": {
      "image/png": "[encoded data removed]",
      "text/plain": [
       "<matplotlib.figure.Figure at 0x16189a710>"
      ]
     },
     "metadata": {},
     "output_type": "display_data"
    }
   ],
   "source": [
    "age_sum.plot(y=\"PLAYING GAMES\", kind = 'bar')"
   ]
  },
  {
   "cell_type": "code",
   "execution_count": 27,
   "metadata": {
    "collapsed": false
   },
   "outputs": [
    {
     "data": {
      "text/plain": [
       "<matplotlib.axes._subplots.AxesSubplot at 0x144fb5dd8>"
      ]
     },
     "execution_count": 27,
     "metadata": {},
     "output_type": "execute_result"
    },
    {
     "data": {
      "image/png": "[encoded data removed]",
      "text/plain": [
       "<matplotlib.figure.Figure at 0x163a41b00>"
      ]
     },
     "metadata": {},
     "output_type": "display_data"
    }
   ],
   "source": [
    "age_sum.plot(y=\"READING FOR PLEASURE\", kind = 'bar')"
   ]
  },
  {
   "cell_type": "code",
   "execution_count": 28,
   "metadata": {
    "collapsed": false
   },
   "outputs": [
    {
     "data": {
      "text/plain": [
       "<matplotlib.axes._subplots.AxesSubplot at 0x154e852e8>"
      ]
     },
     "execution_count": 28,
     "metadata": {},
     "output_type": "execute_result"
    },
    {
     "data": {
      "image/png": "[encoded data removed]",
      "text/plain": [
       "<matplotlib.figure.Figure at 0x14f6e5550>"
      ]
     },
     "metadata": {},
     "output_type": "display_data"
    }
   ],
   "source": [
    "age_sum.plot(y=\"TRAVELING TO WORK\", kind = 'bar')"
   ]
  },
  {
   "cell_type": "code",
   "execution_count": 29,
   "metadata": {
    "collapsed": false
   },
   "outputs": [
    {
     "data": {
      "text/plain": [
       "<matplotlib.axes._subplots.AxesSubplot at 0x16510d978>"
      ]
     },
     "execution_count": 29,
     "metadata": {},
     "output_type": "execute_result"
    },
    {
     "data": {
      "image/png": "[encoded data removed]",
      "text/plain": [
       "<matplotlib.figure.Figure at 0x15f5aefd0>"
      ]
     },
     "metadata": {},
     "output_type": "display_data"
    }
   ],
   "source": [
    "age_sum.plot(y=\"TRAVELING TO PURCHASE GAS\", kind = 'bar')"
   ]
  },
  {
   "cell_type": "code",
   "execution_count": 30,
   "metadata": {
    "collapsed": false
   },
   "outputs": [
    {
     "data": {
      "text/html": [
       "<div>\n",
       "<table border=\"1\" class=\"dataframe\">\n",
       "  <thead>\n",
       "    <tr style=\"text-align: right;\">\n",
       "      <th></th>\n",
       "      <th>AGE</th>\n",
       "      <th>SEX</th>\n",
       "      <th>TAKING CARE OF OTHER'S KIDS</th>\n",
       "      <th>WORKING</th>\n",
       "      <th>COMPARISON SHOPPING</th>\n",
       "      <th>WAITING TO EAT/DRINK</th>\n",
       "      <th>TOBACCO/DRUG USE</th>\n",
       "      <th>PLAYING GAMES</th>\n",
       "      <th>READING FOR PLEASURE</th>\n",
       "      <th>TRAVELING TO WORK</th>\n",
       "      <th>TRAVELING TO PURCHASE GAS</th>\n",
       "    </tr>\n",
       "    <tr>\n",
       "      <th>EDUCATION</th>\n",
       "      <th></th>\n",
       "      <th></th>\n",
       "      <th></th>\n",
       "      <th></th>\n",
       "      <th></th>\n",
       "      <th></th>\n",
       "      <th></th>\n",
       "      <th></th>\n",
       "      <th></th>\n",
       "      <th></th>\n",
       "      <th></th>\n",
       "    </tr>\n",
       "  </thead>\n",
       "  <tbody>\n",
       "    <tr>\n",
       "      <th>39</th>\n",
       "      <td>20</td>\n",
       "      <td>2</td>\n",
       "      <td>0</td>\n",
       "      <td>0</td>\n",
       "      <td>0</td>\n",
       "      <td>0</td>\n",
       "      <td>0</td>\n",
       "      <td>0</td>\n",
       "      <td>0</td>\n",
       "      <td>0</td>\n",
       "      <td>0</td>\n",
       "    </tr>\n",
       "    <tr>\n",
       "      <th>37</th>\n",
       "      <td>16</td>\n",
       "      <td>2</td>\n",
       "      <td>0</td>\n",
       "      <td>465</td>\n",
       "      <td>0</td>\n",
       "      <td>0</td>\n",
       "      <td>0</td>\n",
       "      <td>0</td>\n",
       "      <td>0</td>\n",
       "      <td>90</td>\n",
       "      <td>0</td>\n",
       "    </tr>\n",
       "    <tr>\n",
       "      <th>38</th>\n",
       "      <td>65</td>\n",
       "      <td>2</td>\n",
       "      <td>0</td>\n",
       "      <td>0</td>\n",
       "      <td>0</td>\n",
       "      <td>0</td>\n",
       "      <td>0</td>\n",
       "      <td>0</td>\n",
       "      <td>0</td>\n",
       "      <td>0</td>\n",
       "      <td>0</td>\n",
       "    </tr>\n",
       "    <tr>\n",
       "      <th>39</th>\n",
       "      <td>50</td>\n",
       "      <td>2</td>\n",
       "      <td>0</td>\n",
       "      <td>0</td>\n",
       "      <td>0</td>\n",
       "      <td>0</td>\n",
       "      <td>0</td>\n",
       "      <td>0</td>\n",
       "      <td>0</td>\n",
       "      <td>0</td>\n",
       "      <td>0</td>\n",
       "    </tr>\n",
       "    <tr>\n",
       "      <th>39</th>\n",
       "      <td>23</td>\n",
       "      <td>2</td>\n",
       "      <td>0</td>\n",
       "      <td>0</td>\n",
       "      <td>0</td>\n",
       "      <td>0</td>\n",
       "      <td>0</td>\n",
       "      <td>0</td>\n",
       "      <td>0</td>\n",
       "      <td>0</td>\n",
       "      <td>0</td>\n",
       "    </tr>\n",
       "  </tbody>\n",
       "</table>\n",
       "</div>"
      ],
      "text/plain": [
       "           AGE  SEX  TAKING CARE OF OTHER'S KIDS  WORKING  \\\n",
       "EDUCATION                                                   \n",
       "39          20    2                            0        0   \n",
       "37          16    2                            0      465   \n",
       "38          65    2                            0        0   \n",
       "39          50    2                            0        0   \n",
       "39          23    2                            0        0   \n",
       "\n",
       "           COMPARISON SHOPPING  WAITING TO EAT/DRINK  TOBACCO/DRUG USE  \\\n",
       "EDUCATION                                                                \n",
       "39                           0                     0                 0   \n",
       "37                           0                     0                 0   \n",
       "38                           0                     0                 0   \n",
       "39                           0                     0                 0   \n",
       "39                           0                     0                 0   \n",
       "\n",
       "           PLAYING GAMES  READING FOR PLEASURE  TRAVELING TO WORK  \\\n",
       "EDUCATION                                                           \n",
       "39                     0                     0                  0   \n",
       "37                     0                     0                 90   \n",
       "38                     0                     0                  0   \n",
       "39                     0                     0                  0   \n",
       "39                     0                     0                  0   \n",
       "\n",
       "           TRAVELING TO PURCHASE GAS  \n",
       "EDUCATION                             \n",
       "39                                 0  \n",
       "37                                 0  \n",
       "38                                 0  \n",
       "39                                 0  \n",
       "39                                 0  "
      ]
     },
     "execution_count": 30,
     "metadata": {},
     "output_type": "execute_result"
    }
   ],
   "source": [
    "edu_sum.head()"
   ]
  },
  {
   "cell_type": "code",
   "execution_count": 33,
   "metadata": {
    "collapsed": false
   },
   "outputs": [],
   "source": [
    "edu_sum = edu_sum.sort_index()"
   ]
  },
  {
   "cell_type": "code",
   "execution_count": 35,
   "metadata": {
    "collapsed": false
   },
   "outputs": [
    {
     "data": {
      "text/plain": [
       "<matplotlib.axes._subplots.AxesSubplot at 0x18020ab70>"
      ]
     },
     "execution_count": 35,
     "metadata": {},
     "output_type": "execute_result"
    },
    {
     "data": {
      "image/png": "[encoded data removed]",
      "text/plain": [
       "<matplotlib.figure.Figure at 0x1804d3f60>"
      ]
     },
     "metadata": {},
     "output_type": "display_data"
    }
   ],
   "source": [
    "edu_sum.plot(y=\"COMPARISON SHOPPING\", kind = 'bar')"
   ]
  },
  {
   "cell_type": "code",
   "execution_count": 36,
   "metadata": {
    "collapsed": false
   },
   "outputs": [
    {
     "data": {
      "text/plain": [
       "<matplotlib.axes._subplots.AxesSubplot at 0x1866d5278>"
      ]
     },
     "execution_count": 36,
     "metadata": {},
     "output_type": "execute_result"
    },
    {
     "data": {
      "image/png": "[encoded data removed]",
      "text/plain": [
       "<matplotlib.figure.Figure at 0x184861cc0>"
      ]
     },
     "metadata": {},
     "output_type": "display_data"
    }
   ],
   "source": [
    "edu_sum.plot(y=\"WORKING\", kind = 'bar')"
   ]
  },
  {
   "cell_type": "code",
   "execution_count": 37,
   "metadata": {
    "collapsed": false
   },
   "outputs": [
    {
     "data": {
      "text/plain": [
       "<matplotlib.axes._subplots.AxesSubplot at 0x195863198>"
      ]
     },
     "execution_count": 37,
     "metadata": {},
     "output_type": "execute_result"
    },
    {
     "data": {
      "image/png": "[encoded data removed]",
      "text/plain": [
       "<matplotlib.figure.Figure at 0x1ba9a8160>"
      ]
     },
     "metadata": {},
     "output_type": "display_data"
    }
   ],
   "source": [
    "edu_sum.plot(y=\"WAITING TO EAT/DRINK\", kind = 'bar')"
   ]
  },
  {
   "cell_type": "code",
   "execution_count": 38,
   "metadata": {
    "collapsed": false
   },
   "outputs": [
    {
     "data": {
      "text/plain": [
       "<matplotlib.axes._subplots.AxesSubplot at 0x1a5e4bac8>"
      ]
     },
     "execution_count": 38,
     "metadata": {},
     "output_type": "execute_result"
    },
    {
     "data": {
      "image/png": "[encoded data removed]",
      "text/plain": [
       "<matplotlib.figure.Figure at 0x144df1dd8>"
      ]
     },
     "metadata": {},
     "output_type": "display_data"
    }
   ],
   "source": [
    "edu_sum.plot(y=\"TOBACCO/DRUG USE\", kind = 'bar')"
   ]
  },
  {
   "cell_type": "code",
   "execution_count": 44,
   "metadata": {
    "collapsed": false
   },
   "outputs": [
    {
     "data": {
      "text/plain": [
       "<matplotlib.axes._subplots.AxesSubplot at 0x215811748>"
      ]
     },
     "execution_count": 44,
     "metadata": {},
     "output_type": "execute_result"
    },
    {
     "data": {
      "image/png": "[encoded data removed]",
      "text/plain": [
       "<matplotlib.figure.Figure at 0x1f7e5ff98>"
      ]
     },
     "metadata": {},
     "output_type": "display_data"
    }
   ],
   "source": [
    "edu_sum.plot(y=\"PLAYING GAMES\", kind = 'bar')"
   ]
  },
  {
   "cell_type": "code",
   "execution_count": 45,
   "metadata": {
    "collapsed": false
   },
   "outputs": [
    {
     "data": {
      "text/plain": [
       "<matplotlib.axes._subplots.AxesSubplot at 0x208dba978>"
      ]
     },
     "execution_count": 45,
     "metadata": {},
     "output_type": "execute_result"
    },
    {
     "data": {
      "image/png": "[encoded data removed]",
      "text/plain": [
       "<matplotlib.figure.Figure at 0x233481828>"
      ]
     },
     "metadata": {},
     "output_type": "display_data"
    }
   ],
   "source": [
    "edu_sum.plot(y=\"READING FOR PLEASURE\", kind = 'bar')"
   ]
  },
  {
   "cell_type": "code",
   "execution_count": 46,
   "metadata": {
    "collapsed": false
   },
   "outputs": [
    {
     "data": {
      "text/plain": [
       "<matplotlib.axes._subplots.AxesSubplot at 0x2018931d0>"
      ]
     },
     "execution_count": 46,
     "metadata": {},
     "output_type": "execute_result"
    },
    {
     "data": {
      "image/png": "[encoded data removed]",
      "text/plain": [
       "<matplotlib.figure.Figure at 0x210fc23c8>"
      ]
     },
     "metadata": {},
     "output_type": "display_data"
    }
   ],
   "source": [
    "edu_sum.plot(y=\"TRAVELING TO WORK\", kind = 'bar')"
   ]
  },
  {
   "cell_type": "code",
   "execution_count": 47,
   "metadata": {
    "collapsed": false
   },
   "outputs": [
    {
     "data": {
      "text/plain": [
       "<matplotlib.axes._subplots.AxesSubplot at 0x226748160>"
      ]
     },
     "execution_count": 47,
     "metadata": {},
     "output_type": "execute_result"
    },
    {
     "data": {
      "image/png": "[encoded data removed]",
      "text/plain": [
       "<matplotlib.figure.Figure at 0x204ef1f60>"
      ]
     },
     "metadata": {},
     "output_type": "display_data"
    }
   ],
   "source": [
    "edu_sum.plot(y=\"TRAVELING TO PURCHASE GAS\", kind = 'bar')"
   ]
  },
  {
   "cell_type": "code",
   "execution_count": null,
   "metadata": {
    "collapsed": true
   },
   "outputs": [],
   "source": []
  },
  {
   "cell_type": "code",
   "execution_count": 34,
   "metadata": {
    "collapsed": false
   },
   "outputs": [
    {
     "data": {
      "text/html": [
       "<div>\n",
       "<table border=\"1\" class=\"dataframe\">\n",
       "  <thead>\n",
       "    <tr style=\"text-align: right;\">\n",
       "      <th></th>\n",
       "      <th>AGE</th>\n",
       "      <th>SEX</th>\n",
       "      <th>TAKING CARE OF OTHER'S KIDS</th>\n",
       "      <th>WORKING</th>\n",
       "      <th>COMPARISON SHOPPING</th>\n",
       "      <th>WAITING TO EAT/DRINK</th>\n",
       "      <th>TOBACCO/DRUG USE</th>\n",
       "      <th>PLAYING GAMES</th>\n",
       "      <th>READING FOR PLEASURE</th>\n",
       "      <th>TRAVELING TO WORK</th>\n",
       "      <th>TRAVELING TO PURCHASE GAS</th>\n",
       "    </tr>\n",
       "  </thead>\n",
       "  <tbody>\n",
       "    <tr>\n",
       "      <th>count</th>\n",
       "      <td>11592.000000</td>\n",
       "      <td>11592.000000</td>\n",
       "      <td>11592.000000</td>\n",
       "      <td>11592.000000</td>\n",
       "      <td>11592.000000</td>\n",
       "      <td>11592.000000</td>\n",
       "      <td>11592.000000</td>\n",
       "      <td>11592.000000</td>\n",
       "      <td>11592.000000</td>\n",
       "      <td>11592.000000</td>\n",
       "      <td>11592.000000</td>\n",
       "    </tr>\n",
       "    <tr>\n",
       "      <th>mean</th>\n",
       "      <td>48.797188</td>\n",
       "      <td>1.557971</td>\n",
       "      <td>0.057453</td>\n",
       "      <td>150.513975</td>\n",
       "      <td>0.026743</td>\n",
       "      <td>0.197981</td>\n",
       "      <td>0.407264</td>\n",
       "      <td>12.163389</td>\n",
       "      <td>21.531142</td>\n",
       "      <td>12.267167</td>\n",
       "      <td>1.400794</td>\n",
       "    </tr>\n",
       "    <tr>\n",
       "      <th>std</th>\n",
       "      <td>17.892812</td>\n",
       "      <td>0.496649</td>\n",
       "      <td>2.242670</td>\n",
       "      <td>238.352837</td>\n",
       "      <td>1.247609</td>\n",
       "      <td>2.542515</td>\n",
       "      <td>6.442731</td>\n",
       "      <td>54.145475</td>\n",
       "      <td>60.458648</td>\n",
       "      <td>30.516571</td>\n",
       "      <td>14.398281</td>\n",
       "    </tr>\n",
       "    <tr>\n",
       "      <th>min</th>\n",
       "      <td>15.000000</td>\n",
       "      <td>1.000000</td>\n",
       "      <td>0.000000</td>\n",
       "      <td>0.000000</td>\n",
       "      <td>0.000000</td>\n",
       "      <td>0.000000</td>\n",
       "      <td>0.000000</td>\n",
       "      <td>0.000000</td>\n",
       "      <td>0.000000</td>\n",
       "      <td>0.000000</td>\n",
       "      <td>0.000000</td>\n",
       "    </tr>\n",
       "    <tr>\n",
       "      <th>25%</th>\n",
       "      <td>35.000000</td>\n",
       "      <td>1.000000</td>\n",
       "      <td>0.000000</td>\n",
       "      <td>0.000000</td>\n",
       "      <td>0.000000</td>\n",
       "      <td>0.000000</td>\n",
       "      <td>0.000000</td>\n",
       "      <td>0.000000</td>\n",
       "      <td>0.000000</td>\n",
       "      <td>0.000000</td>\n",
       "      <td>0.000000</td>\n",
       "    </tr>\n",
       "    <tr>\n",
       "      <th>50%</th>\n",
       "      <td>48.000000</td>\n",
       "      <td>2.000000</td>\n",
       "      <td>0.000000</td>\n",
       "      <td>0.000000</td>\n",
       "      <td>0.000000</td>\n",
       "      <td>0.000000</td>\n",
       "      <td>0.000000</td>\n",
       "      <td>0.000000</td>\n",
       "      <td>0.000000</td>\n",
       "      <td>0.000000</td>\n",
       "      <td>0.000000</td>\n",
       "    </tr>\n",
       "    <tr>\n",
       "      <th>75%</th>\n",
       "      <td>63.000000</td>\n",
       "      <td>2.000000</td>\n",
       "      <td>0.000000</td>\n",
       "      <td>360.250000</td>\n",
       "      <td>0.000000</td>\n",
       "      <td>0.000000</td>\n",
       "      <td>0.000000</td>\n",
       "      <td>0.000000</td>\n",
       "      <td>0.000000</td>\n",
       "      <td>10.000000</td>\n",
       "      <td>0.000000</td>\n",
       "    </tr>\n",
       "    <tr>\n",
       "      <th>max</th>\n",
       "      <td>85.000000</td>\n",
       "      <td>2.000000</td>\n",
       "      <td>180.000000</td>\n",
       "      <td>1265.000000</td>\n",
       "      <td>90.000000</td>\n",
       "      <td>90.000000</td>\n",
       "      <td>475.000000</td>\n",
       "      <td>798.000000</td>\n",
       "      <td>810.000000</td>\n",
       "      <td>1110.000000</td>\n",
       "      <td>720.000000</td>\n",
       "    </tr>\n",
       "  </tbody>\n",
       "</table>\n",
       "</div>"
      ],
      "text/plain": [
       "                AGE           SEX  TAKING CARE OF OTHER'S KIDS       WORKING  \\\n",
       "count  11592.000000  11592.000000                 11592.000000  11592.000000   \n",
       "mean      48.797188      1.557971                     0.057453    150.513975   \n",
       "std       17.892812      0.496649                     2.242670    238.352837   \n",
       "min       15.000000      1.000000                     0.000000      0.000000   \n",
       "25%       35.000000      1.000000                     0.000000      0.000000   \n",
       "50%       48.000000      2.000000                     0.000000      0.000000   \n",
       "75%       63.000000      2.000000                     0.000000    360.250000   \n",
       "max       85.000000      2.000000                   180.000000   1265.000000   \n",
       "\n",
       "       COMPARISON SHOPPING  WAITING TO EAT/DRINK  TOBACCO/DRUG USE  \\\n",
       "count         11592.000000          11592.000000      11592.000000   \n",
       "mean              0.026743              0.197981          0.407264   \n",
       "std               1.247609              2.542515          6.442731   \n",
       "min               0.000000              0.000000          0.000000   \n",
       "25%               0.000000              0.000000          0.000000   \n",
       "50%               0.000000              0.000000          0.000000   \n",
       "75%               0.000000              0.000000          0.000000   \n",
       "max              90.000000             90.000000        475.000000   \n",
       "\n",
       "       PLAYING GAMES  READING FOR PLEASURE  TRAVELING TO WORK  \\\n",
       "count   11592.000000          11592.000000       11592.000000   \n",
       "mean       12.163389             21.531142          12.267167   \n",
       "std        54.145475             60.458648          30.516571   \n",
       "min         0.000000              0.000000           0.000000   \n",
       "25%         0.000000              0.000000           0.000000   \n",
       "50%         0.000000              0.000000           0.000000   \n",
       "75%         0.000000              0.000000          10.000000   \n",
       "max       798.000000            810.000000        1110.000000   \n",
       "\n",
       "       TRAVELING TO PURCHASE GAS  \n",
       "count               11592.000000  \n",
       "mean                    1.400794  \n",
       "std                    14.398281  \n",
       "min                     0.000000  \n",
       "25%                     0.000000  \n",
       "50%                     0.000000  \n",
       "75%                     0.000000  \n",
       "max                   720.000000  "
      ]
     },
     "execution_count": 34,
     "metadata": {},
     "output_type": "execute_result"
    }
   ],
   "source": [
    "edu_sum.describe()"
   ]
  },
  {
   "cell_type": "code",
   "execution_count": null,
   "metadata": {
    "collapsed": true
   },
   "outputs": [],
   "source": []
  }
 ],
 "metadata": {
  "kernelspec": {
   "display_name": "Python 3",
   "language": "python",
   "name": "python3"
  },
  "language_info": {
   "codemirror_mode": {
    "name": "ipython",
    "version": 3
   },
   "file_extension": ".py",
   "mimetype": "text/x-python",
   "name": "python",
   "nbconvert_exporter": "python",
   "pygments_lexer": "ipython3",
   "version": "3.5.1"
  }
 },
 "nbformat": 4,
 "nbformat_minor": 0
}
